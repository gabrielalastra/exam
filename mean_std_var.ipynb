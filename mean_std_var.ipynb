{
  "nbformat": 4,
  "nbformat_minor": 0,
  "metadata": {
    "colab": {
      "name": "mean_std_var.ipynb",
      "provenance": [],
      "authorship_tag": "ABX9TyNDBdWvTdHT5G4x5yihRg+i",
      "include_colab_link": true
    },
    "kernelspec": {
      "name": "python3",
      "display_name": "Python 3"
    },
    "language_info": {
      "name": "python"
    }
  },
  "cells": [
    {
      "cell_type": "markdown",
      "metadata": {
        "id": "view-in-github",
        "colab_type": "text"
      },
      "source": [
        "<a href=\"https://colab.research.google.com/github/gabrielalastra/test/blob/main/mean_std_var.ipynb\" target=\"_parent\"><img src=\"https://colab.research.google.com/assets/colab-badge.svg\" alt=\"Open In Colab\"/></a>"
      ]
    },
    {
      "cell_type": "code",
      "execution_count": 1,
      "metadata": {
        "id": "rDtaKuGHl139"
      },
      "outputs": [],
      "source": [
        "import pandas as pd\n",
        "import numpy as np"
      ]
    },
    {
      "cell_type": "code",
      "source": [
        "x=[0,1,2,3,4,5,6,7,8]"
      ],
      "metadata": {
        "id": "E9wbEpmil6Da"
      },
      "execution_count": 2,
      "outputs": []
    },
    {
      "cell_type": "code",
      "source": [
        "x = np.array(x).reshape(3, 3)"
      ],
      "metadata": {
        "id": "1w9K_UGsmEpZ"
      },
      "execution_count": 3,
      "outputs": []
    },
    {
      "cell_type": "code",
      "source": [
        "x"
      ],
      "metadata": {
        "colab": {
          "base_uri": "https://localhost:8080/"
        },
        "id": "ejWv02GamJFG",
        "outputId": "b6c022ad-c0c7-41f8-e919-c1949ba2fcf6"
      },
      "execution_count": 4,
      "outputs": [
        {
          "output_type": "execute_result",
          "data": {
            "text/plain": [
              "array([[0, 1, 2],\n",
              "       [3, 4, 5],\n",
              "       [6, 7, 8]])"
            ]
          },
          "metadata": {},
          "execution_count": 4
        }
      ]
    },
    {
      "cell_type": "code",
      "source": [
        "mean_c = np.mean(x, axis=0)\n",
        "mean_r = np.mean(x, axis=1)\n",
        "mean_e = np.mean(x)"
      ],
      "metadata": {
        "id": "mwYMbYUnmJxz"
      },
      "execution_count": 5,
      "outputs": []
    },
    {
      "cell_type": "code",
      "source": [
        "print(mean_c, mean_r, mean_e)\n"
      ],
      "metadata": {
        "colab": {
          "base_uri": "https://localhost:8080/"
        },
        "id": "CqvyIVjVmOe7",
        "outputId": "38022412-ba3e-4737-8e1a-81fd4d30ec66"
      },
      "execution_count": 12,
      "outputs": [
        {
          "output_type": "stream",
          "name": "stdout",
          "text": [
            "[3. 4. 5.] [1. 4. 7.] 4.0\n"
          ]
        }
      ]
    },
    {
      "cell_type": "code",
      "source": [
        "#variance and standard desviation\n",
        "var_c = np.var(x, axis=0)\n",
        "var_r = np.var(x, axis=1)\n",
        "var_e = np.var(x)\n",
        "std_c = np.std(x, axis=0)\n",
        "std_r = np.std(x, axis=1)\n",
        "std_e = np.std(x)"
      ],
      "metadata": {
        "id": "nihwg4KqmS-S"
      },
      "execution_count": 13,
      "outputs": []
    },
    {
      "cell_type": "code",
      "source": [
        "#max&min\n",
        "max_c = np.max(x, axis=0)\n",
        "max_r = np.max(x, axis=1)\n",
        "max_e = np.max(x)\n",
        "min_c = np.min(x, axis=0)\n",
        "min_r = np.min(x, axis=1)\n",
        "min_e = np.min(x)"
      ],
      "metadata": {
        "id": "OHtYmiiCmWYW"
      },
      "execution_count": 14,
      "outputs": []
    },
    {
      "cell_type": "code",
      "source": [
        "def calculate(x):\n",
        "    dict = {\n",
        "        'mean': [mean_r, mean_c, mean_e],\n",
        "        'var': [var_r, var_c, var_e],\n",
        "        'std': [std_r, std_c, std_e],\n",
        "        'max': [max_r, max_c, max_e],\n",
        "        'min': [min_r, min_c, min_e]\n",
        "    }\n",
        "    return dict\n",
        "\n",
        "\n",
        "calculate(x)"
      ],
      "metadata": {
        "colab": {
          "base_uri": "https://localhost:8080/"
        },
        "id": "7wAJs_ngpczq",
        "outputId": "ce060498-6333-4882-cb8a-3954ecb92d8d"
      },
      "execution_count": 15,
      "outputs": [
        {
          "output_type": "execute_result",
          "data": {
            "text/plain": [
              "{'max': [array([2, 5, 8]), array([6, 7, 8]), 8],\n",
              " 'mean': [array([1., 4., 7.]), array([3., 4., 5.]), 4.0],\n",
              " 'min': [array([0, 3, 6]), array([0, 1, 2]), 0],\n",
              " 'std': [array([0.81649658, 0.81649658, 0.81649658]),\n",
              "  array([2.44948974, 2.44948974, 2.44948974]),\n",
              "  2.581988897471611],\n",
              " 'var': [array([0.66666667, 0.66666667, 0.66666667]),\n",
              "  array([6., 6., 6.]),\n",
              "  6.666666666666667]}"
            ]
          },
          "metadata": {},
          "execution_count": 15
        }
      ]
    }
  ]
}